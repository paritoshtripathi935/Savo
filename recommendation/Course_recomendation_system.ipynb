{
 "cells": [
  {
   "cell_type": "code",
   "execution_count": 1,
   "id": "5b087fa1",
   "metadata": {},
   "outputs": [],
   "source": [
    "# Load EDA Pkgs\n",
    "import pandas as pd\n",
    "import neattext.functions as nfx"
   ]
  },
  {
   "cell_type": "code",
   "execution_count": 2,
   "id": "a687a3ba-6b28-4b03-958e-8517debb0c3f",
   "metadata": {},
   "outputs": [],
   "source": [
    "# Load ML/Rc Pkgs\n",
    "from sklearn.feature_extraction.text import CountVectorizer,TfidfVectorizer\n",
    "from sklearn.metrics.pairwise import cosine_similarity,linear_kernel"
   ]
  },
  {
   "cell_type": "code",
   "execution_count": 3,
   "id": "95d21a04",
   "metadata": {},
   "outputs": [],
   "source": [
    "df = pd.read_csv(\"Programming_courses.csv\")"
   ]
  },
  {
   "cell_type": "code",
   "execution_count": 4,
   "id": "e191038b",
   "metadata": {},
   "outputs": [
    {
     "data": {
      "text/html": [
       "<div>\n",
       "<style scoped>\n",
       "    .dataframe tbody tr th:only-of-type {\n",
       "        vertical-align: middle;\n",
       "    }\n",
       "\n",
       "    .dataframe tbody tr th {\n",
       "        vertical-align: top;\n",
       "    }\n",
       "\n",
       "    .dataframe thead th {\n",
       "        text-align: right;\n",
       "    }\n",
       "</style>\n",
       "<table border=\"1\" class=\"dataframe\">\n",
       "  <thead>\n",
       "    <tr style=\"text-align: right;\">\n",
       "      <th></th>\n",
       "      <th>Unnamed: 0</th>\n",
       "      <th>Title</th>\n",
       "    </tr>\n",
       "  </thead>\n",
       "  <tbody>\n",
       "    <tr>\n",
       "      <th>0</th>\n",
       "      <td>0</td>\n",
       "      <td>Python for Finance and Algorithmic Trading wit...</td>\n",
       "    </tr>\n",
       "    <tr>\n",
       "      <th>1</th>\n",
       "      <td>1</td>\n",
       "      <td>A deep understanding of deep learning (with Py...</td>\n",
       "    </tr>\n",
       "    <tr>\n",
       "      <th>2</th>\n",
       "      <td>2</td>\n",
       "      <td>The Python Mega Course: Build 10 Real World Ap...</td>\n",
       "    </tr>\n",
       "    <tr>\n",
       "      <th>3</th>\n",
       "      <td>3</td>\n",
       "      <td>The Ultimate MySQL Bootcamp: Go from SQL Begin...</td>\n",
       "    </tr>\n",
       "    <tr>\n",
       "      <th>4</th>\n",
       "      <td>4</td>\n",
       "      <td>The Ultimate MySQL Bootcamp: Go from SQL Begin...</td>\n",
       "    </tr>\n",
       "  </tbody>\n",
       "</table>\n",
       "</div>"
      ],
      "text/plain": [
       "   Unnamed: 0                                              Title\n",
       "0           0  Python for Finance and Algorithmic Trading wit...\n",
       "1           1  A deep understanding of deep learning (with Py...\n",
       "2           2  The Python Mega Course: Build 10 Real World Ap...\n",
       "3           3  The Ultimate MySQL Bootcamp: Go from SQL Begin...\n",
       "4           4  The Ultimate MySQL Bootcamp: Go from SQL Begin..."
      ]
     },
     "execution_count": 4,
     "metadata": {},
     "output_type": "execute_result"
    }
   ],
   "source": [
    "df.head()"
   ]
  },
  {
   "cell_type": "code",
   "execution_count": 5,
   "id": "bfbe696a",
   "metadata": {},
   "outputs": [
    {
     "data": {
      "text/plain": [
       "['BTC_ADDRESS_REGEX',\n",
       " 'CURRENCY_REGEX',\n",
       " 'CURRENCY_SYMB_REGEX',\n",
       " 'Counter',\n",
       " 'DATE_REGEX',\n",
       " 'EMAIL_REGEX',\n",
       " 'EMOJI_REGEX',\n",
       " 'HASTAG_REGEX',\n",
       " 'MASTERCard_REGEX',\n",
       " 'MD5_SHA_REGEX',\n",
       " 'MOST_COMMON_PUNCT_REGEX',\n",
       " 'NUMBERS_REGEX',\n",
       " 'PHONE_REGEX',\n",
       " 'PoBOX_REGEX',\n",
       " 'SPECIAL_CHARACTERS_REGEX',\n",
       " 'STOPWORDS',\n",
       " 'STOPWORDS_de',\n",
       " 'STOPWORDS_en',\n",
       " 'STOPWORDS_es',\n",
       " 'STOPWORDS_fr',\n",
       " 'STOPWORDS_ru',\n",
       " 'STOPWORDS_yo',\n",
       " 'STREET_ADDRESS_REGEX',\n",
       " 'TextFrame',\n",
       " 'URL_PATTERN',\n",
       " 'USER_HANDLES_REGEX',\n",
       " 'VISACard_REGEX',\n",
       " '__builtins__',\n",
       " '__cached__',\n",
       " '__doc__',\n",
       " '__file__',\n",
       " '__generate_text',\n",
       " '__loader__',\n",
       " '__name__',\n",
       " '__numbers_dict',\n",
       " '__package__',\n",
       " '__spec__',\n",
       " '_lex_richness_herdan',\n",
       " '_lex_richness_maas_ttr',\n",
       " 'clean_text',\n",
       " 'defaultdict',\n",
       " 'digit2words',\n",
       " 'extract_btc_address',\n",
       " 'extract_currencies',\n",
       " 'extract_currency_symbols',\n",
       " 'extract_dates',\n",
       " 'extract_emails',\n",
       " 'extract_emojis',\n",
       " 'extract_hashtags',\n",
       " 'extract_html_tags',\n",
       " 'extract_mastercard_addr',\n",
       " 'extract_md5sha',\n",
       " 'extract_numbers',\n",
       " 'extract_pattern',\n",
       " 'extract_phone_numbers',\n",
       " 'extract_postoffice_box',\n",
       " 'extract_shortwords',\n",
       " 'extract_special_characters',\n",
       " 'extract_stopwords',\n",
       " 'extract_street_address',\n",
       " 'extract_terms_in_bracket',\n",
       " 'extract_urls',\n",
       " 'extract_userhandles',\n",
       " 'extract_visacard_addr',\n",
       " 'fix_contractions',\n",
       " 'generate_sentence',\n",
       " 'hamming_distance',\n",
       " 'inverse_df',\n",
       " 'lexical_richness',\n",
       " 'markov_chain',\n",
       " 'math',\n",
       " 'nlargest',\n",
       " 'normalize',\n",
       " 'num2words',\n",
       " 'random',\n",
       " 're',\n",
       " 'read_txt',\n",
       " 'remove_bad_quotes',\n",
       " 'remove_btc_address',\n",
       " 'remove_currencies',\n",
       " 'remove_currency_symbols',\n",
       " 'remove_custom_pattern',\n",
       " 'remove_custom_words',\n",
       " 'remove_dates',\n",
       " 'remove_emails',\n",
       " 'remove_emojis',\n",
       " 'remove_hashtags',\n",
       " 'remove_html_tags',\n",
       " 'remove_mastercard_addr',\n",
       " 'remove_md5sha',\n",
       " 'remove_multiple_spaces',\n",
       " 'remove_non_ascii',\n",
       " 'remove_numbers',\n",
       " 'remove_phone_numbers',\n",
       " 'remove_postoffice_box',\n",
       " 'remove_puncts',\n",
       " 'remove_punctuations',\n",
       " 'remove_shortwords',\n",
       " 'remove_special_characters',\n",
       " 'remove_stopwords',\n",
       " 'remove_street_address',\n",
       " 'remove_terms_in_bracket',\n",
       " 'remove_urls',\n",
       " 'remove_userhandles',\n",
       " 'remove_visacard_addr',\n",
       " 'replace_bad_quotes',\n",
       " 'replace_currencies',\n",
       " 'replace_currency_symbols',\n",
       " 'replace_dates',\n",
       " 'replace_emails',\n",
       " 'replace_emojis',\n",
       " 'replace_numbers',\n",
       " 'replace_phone_numbers',\n",
       " 'replace_special_characters',\n",
       " 'replace_term',\n",
       " 'replace_urls',\n",
       " 'string',\n",
       " 'term_freq',\n",
       " 'to_txt',\n",
       " 'word_freq',\n",
       " 'word_length_freq']"
      ]
     },
     "execution_count": 5,
     "metadata": {},
     "output_type": "execute_result"
    }
   ],
   "source": [
    "dir(nfx)"
   ]
  },
  {
   "cell_type": "code",
   "execution_count": 6,
   "id": "eea13946-b536-426f-9ddc-f4992714ad29",
   "metadata": {},
   "outputs": [],
   "source": [
    "# Clean Text:stopwords,special charac\n",
    "df['clean_course_title'] = df['Title'].apply(nfx.remove_stopwords)"
   ]
  },
  {
   "cell_type": "code",
   "execution_count": 7,
   "id": "cb5b8bd8-69c6-48f5-8c2b-6de0b186803c",
   "metadata": {},
   "outputs": [],
   "source": [
    "# Clean Text:stopwords,special charac\n",
    "df['clean_course_title'] = df['clean_course_title'].apply(nfx.remove_special_characters)"
   ]
  },
  {
   "cell_type": "code",
   "execution_count": 8,
   "id": "1faeb037-594a-4c32-a774-d368b88434c7",
   "metadata": {},
   "outputs": [
    {
     "data": {
      "text/html": [
       "<div>\n",
       "<style scoped>\n",
       "    .dataframe tbody tr th:only-of-type {\n",
       "        vertical-align: middle;\n",
       "    }\n",
       "\n",
       "    .dataframe tbody tr th {\n",
       "        vertical-align: top;\n",
       "    }\n",
       "\n",
       "    .dataframe thead th {\n",
       "        text-align: right;\n",
       "    }\n",
       "</style>\n",
       "<table border=\"1\" class=\"dataframe\">\n",
       "  <thead>\n",
       "    <tr style=\"text-align: right;\">\n",
       "      <th></th>\n",
       "      <th>Title</th>\n",
       "      <th>clean_course_title</th>\n",
       "    </tr>\n",
       "  </thead>\n",
       "  <tbody>\n",
       "    <tr>\n",
       "      <th>0</th>\n",
       "      <td>Python for Finance and Algorithmic Trading wit...</td>\n",
       "      <td>Python Finance Algorithmic Trading QuantConnect</td>\n",
       "    </tr>\n",
       "    <tr>\n",
       "      <th>1</th>\n",
       "      <td>A deep understanding of deep learning (with Py...</td>\n",
       "      <td>deep understanding deep learning with Python i...</td>\n",
       "    </tr>\n",
       "    <tr>\n",
       "      <th>2</th>\n",
       "      <td>The Python Mega Course: Build 10 Real World Ap...</td>\n",
       "      <td>Python Mega Course Build 10 Real World Applica...</td>\n",
       "    </tr>\n",
       "    <tr>\n",
       "      <th>3</th>\n",
       "      <td>The Ultimate MySQL Bootcamp: Go from SQL Begin...</td>\n",
       "      <td>Ultimate MySQL Bootcamp SQL Beginner Expert</td>\n",
       "    </tr>\n",
       "    <tr>\n",
       "      <th>4</th>\n",
       "      <td>The Ultimate MySQL Bootcamp: Go from SQL Begin...</td>\n",
       "      <td>Ultimate MySQL Bootcamp SQL Beginner Expert</td>\n",
       "    </tr>\n",
       "    <tr>\n",
       "      <th>...</th>\n",
       "      <td>...</td>\n",
       "      <td>...</td>\n",
       "    </tr>\n",
       "    <tr>\n",
       "      <th>4306</th>\n",
       "      <td>Azure Full Course - Learn Microsoft Azure in 8...</td>\n",
       "      <td>Azure Course  Learn Microsoft Azure 8 Hours  A...</td>\n",
       "    </tr>\n",
       "    <tr>\n",
       "      <th>4307</th>\n",
       "      <td>Create a C# Application from Start to Finish -...</td>\n",
       "      <td>Create C Application Start Finish  Complete Co...</td>\n",
       "    </tr>\n",
       "    <tr>\n",
       "      <th>4308</th>\n",
       "      <td>Java Interview Questions and Answers | Java Tu...</td>\n",
       "      <td>Java Interview Questions Answers  Java Tutoria...</td>\n",
       "    </tr>\n",
       "    <tr>\n",
       "      <th>4309</th>\n",
       "      <td>SQL Full Course | SQL Tutorial For Beginners |...</td>\n",
       "      <td>SQL Course  SQL Tutorial Beginners  Learn SQL ...</td>\n",
       "    </tr>\n",
       "    <tr>\n",
       "      <th>4310</th>\n",
       "      <td>Stored procedures in sql server   Part 18</td>\n",
       "      <td>Stored procedures sql server 18</td>\n",
       "    </tr>\n",
       "  </tbody>\n",
       "</table>\n",
       "<p>4311 rows × 2 columns</p>\n",
       "</div>"
      ],
      "text/plain": [
       "                                                  Title  \\\n",
       "0     Python for Finance and Algorithmic Trading wit...   \n",
       "1     A deep understanding of deep learning (with Py...   \n",
       "2     The Python Mega Course: Build 10 Real World Ap...   \n",
       "3     The Ultimate MySQL Bootcamp: Go from SQL Begin...   \n",
       "4     The Ultimate MySQL Bootcamp: Go from SQL Begin...   \n",
       "...                                                 ...   \n",
       "4306  Azure Full Course - Learn Microsoft Azure in 8...   \n",
       "4307  Create a C# Application from Start to Finish -...   \n",
       "4308  Java Interview Questions and Answers | Java Tu...   \n",
       "4309  SQL Full Course | SQL Tutorial For Beginners |...   \n",
       "4310          Stored procedures in sql server   Part 18   \n",
       "\n",
       "                                     clean_course_title  \n",
       "0       Python Finance Algorithmic Trading QuantConnect  \n",
       "1     deep understanding deep learning with Python i...  \n",
       "2     Python Mega Course Build 10 Real World Applica...  \n",
       "3           Ultimate MySQL Bootcamp SQL Beginner Expert  \n",
       "4           Ultimate MySQL Bootcamp SQL Beginner Expert  \n",
       "...                                                 ...  \n",
       "4306  Azure Course  Learn Microsoft Azure 8 Hours  A...  \n",
       "4307  Create C Application Start Finish  Complete Co...  \n",
       "4308  Java Interview Questions Answers  Java Tutoria...  \n",
       "4309  SQL Course  SQL Tutorial Beginners  Learn SQL ...  \n",
       "4310                    Stored procedures sql server 18  \n",
       "\n",
       "[4311 rows x 2 columns]"
      ]
     },
     "execution_count": 8,
     "metadata": {},
     "output_type": "execute_result"
    }
   ],
   "source": [
    "df[['Title','clean_course_title']]"
   ]
  },
  {
   "cell_type": "code",
   "execution_count": 9,
   "id": "e20ef0b0-50a1-4955-b482-1fa5038b716c",
   "metadata": {},
   "outputs": [],
   "source": [
    "# Vectorize our Text\n",
    "count_vect = CountVectorizer()\n",
    "cv_mat = count_vect.fit_transform(df['clean_course_title'])"
   ]
  },
  {
   "cell_type": "code",
   "execution_count": 10,
   "id": "6c13eb5e-b4c9-4ca6-b07f-34b523e2059d",
   "metadata": {},
   "outputs": [
    {
     "data": {
      "text/plain": [
       "<4311x2750 sparse matrix of type '<class 'numpy.int64'>'\n",
       "\twith 21855 stored elements in Compressed Sparse Row format>"
      ]
     },
     "execution_count": 10,
     "metadata": {},
     "output_type": "execute_result"
    }
   ],
   "source": [
    "# Sparse\n",
    "cv_mat"
   ]
  },
  {
   "cell_type": "code",
   "execution_count": 11,
   "id": "6901dbd2-0d94-4a6a-9d4f-903275deaf91",
   "metadata": {},
   "outputs": [
    {
     "data": {
      "text/plain": [
       "matrix([[0, 0, 0, ..., 0, 0, 0],\n",
       "        [0, 0, 0, ..., 0, 0, 0],\n",
       "        [0, 1, 0, ..., 0, 0, 0],\n",
       "        ...,\n",
       "        [0, 0, 0, ..., 0, 0, 0],\n",
       "        [0, 0, 0, ..., 0, 0, 0],\n",
       "        [0, 0, 0, ..., 0, 0, 0]])"
      ]
     },
     "execution_count": 11,
     "metadata": {},
     "output_type": "execute_result"
    }
   ],
   "source": [
    "# Dense\n",
    "cv_mat.todense()"
   ]
  },
  {
   "cell_type": "code",
   "execution_count": 12,
   "id": "52ac3ead-a8d4-4514-a914-90ee66a7d22a",
   "metadata": {},
   "outputs": [],
   "source": [
    "df_cv_words = pd.DataFrame(cv_mat.todense(),columns=count_vect.get_feature_names())"
   ]
  },
  {
   "cell_type": "code",
   "execution_count": 13,
   "id": "0cc61291-41ad-4c93-82f6-5f35d0c9e682",
   "metadata": {},
   "outputs": [],
   "source": [
    "# Cosine Similarity Matrix\n",
    "cosine_sim_mat = cosine_similarity(cv_mat)"
   ]
  },
  {
   "cell_type": "code",
   "execution_count": 14,
   "id": "bf3c403c-71a6-4b17-bf08-3f40bb9f269a",
   "metadata": {},
   "outputs": [
    {
     "data": {
      "text/plain": [
       "array([[1.        , 0.1490712 , 0.15811388, ..., 0.        , 0.        ,\n",
       "        0.        ],\n",
       "       [0.1490712 , 1.        , 0.11785113, ..., 0.        , 0.        ,\n",
       "        0.        ],\n",
       "       [0.15811388, 0.11785113, 1.        , ..., 0.        , 0.08574929,\n",
       "        0.        ],\n",
       "       ...,\n",
       "       [0.        , 0.        , 0.        , ..., 1.        , 0.12126781,\n",
       "        0.        ],\n",
       "       [0.        , 0.        , 0.08574929, ..., 0.12126781, 1.        ,\n",
       "        0.32539569],\n",
       "       [0.        , 0.        , 0.        , ..., 0.        , 0.32539569,\n",
       "        1.        ]])"
      ]
     },
     "execution_count": 14,
     "metadata": {},
     "output_type": "execute_result"
    }
   ],
   "source": [
    "cosine_sim_mat"
   ]
  },
  {
   "cell_type": "code",
   "execution_count": 15,
   "id": "31e2a623-d137-401c-8ffe-61a9446659c2",
   "metadata": {},
   "outputs": [
    {
     "data": {
      "text/html": [
       "<div>\n",
       "<style scoped>\n",
       "    .dataframe tbody tr th:only-of-type {\n",
       "        vertical-align: middle;\n",
       "    }\n",
       "\n",
       "    .dataframe tbody tr th {\n",
       "        vertical-align: top;\n",
       "    }\n",
       "\n",
       "    .dataframe thead th {\n",
       "        text-align: right;\n",
       "    }\n",
       "</style>\n",
       "<table border=\"1\" class=\"dataframe\">\n",
       "  <thead>\n",
       "    <tr style=\"text-align: right;\">\n",
       "      <th></th>\n",
       "      <th>Unnamed: 0</th>\n",
       "      <th>Title</th>\n",
       "      <th>clean_course_title</th>\n",
       "    </tr>\n",
       "  </thead>\n",
       "  <tbody>\n",
       "    <tr>\n",
       "      <th>0</th>\n",
       "      <td>0</td>\n",
       "      <td>Python for Finance and Algorithmic Trading wit...</td>\n",
       "      <td>Python Finance Algorithmic Trading QuantConnect</td>\n",
       "    </tr>\n",
       "    <tr>\n",
       "      <th>1</th>\n",
       "      <td>1</td>\n",
       "      <td>A deep understanding of deep learning (with Py...</td>\n",
       "      <td>deep understanding deep learning with Python i...</td>\n",
       "    </tr>\n",
       "    <tr>\n",
       "      <th>2</th>\n",
       "      <td>2</td>\n",
       "      <td>The Python Mega Course: Build 10 Real World Ap...</td>\n",
       "      <td>Python Mega Course Build 10 Real World Applica...</td>\n",
       "    </tr>\n",
       "    <tr>\n",
       "      <th>3</th>\n",
       "      <td>3</td>\n",
       "      <td>The Ultimate MySQL Bootcamp: Go from SQL Begin...</td>\n",
       "      <td>Ultimate MySQL Bootcamp SQL Beginner Expert</td>\n",
       "    </tr>\n",
       "    <tr>\n",
       "      <th>4</th>\n",
       "      <td>4</td>\n",
       "      <td>The Ultimate MySQL Bootcamp: Go from SQL Begin...</td>\n",
       "      <td>Ultimate MySQL Bootcamp SQL Beginner Expert</td>\n",
       "    </tr>\n",
       "  </tbody>\n",
       "</table>\n",
       "</div>"
      ],
      "text/plain": [
       "   Unnamed: 0                                              Title  \\\n",
       "0           0  Python for Finance and Algorithmic Trading wit...   \n",
       "1           1  A deep understanding of deep learning (with Py...   \n",
       "2           2  The Python Mega Course: Build 10 Real World Ap...   \n",
       "3           3  The Ultimate MySQL Bootcamp: Go from SQL Begin...   \n",
       "4           4  The Ultimate MySQL Bootcamp: Go from SQL Begin...   \n",
       "\n",
       "                                  clean_course_title  \n",
       "0    Python Finance Algorithmic Trading QuantConnect  \n",
       "1  deep understanding deep learning with Python i...  \n",
       "2  Python Mega Course Build 10 Real World Applica...  \n",
       "3        Ultimate MySQL Bootcamp SQL Beginner Expert  \n",
       "4        Ultimate MySQL Bootcamp SQL Beginner Expert  "
      ]
     },
     "execution_count": 15,
     "metadata": {},
     "output_type": "execute_result"
    }
   ],
   "source": [
    "df.head()"
   ]
  },
  {
   "cell_type": "code",
   "execution_count": 16,
   "id": "40190620-fc9d-4c97-bd5b-502d3afa4a32",
   "metadata": {},
   "outputs": [],
   "source": [
    "# Get Course ID/Index\n",
    "course_indices = pd.Series(df.index,index=df['Title']).drop_duplicates()"
   ]
  },
  {
   "cell_type": "code",
   "execution_count": 17,
   "id": "28696f9c-e44a-4c65-9a23-dc9310f385fe",
   "metadata": {},
   "outputs": [
    {
     "data": {
      "text/plain": [
       "'A deep understanding of deep learning (with Python intro)'"
      ]
     },
     "execution_count": 17,
     "metadata": {},
     "output_type": "execute_result"
    }
   ],
   "source": [
    "df.Title[1]"
   ]
  },
  {
   "cell_type": "code",
   "execution_count": 18,
   "id": "3804073d-b5d7-4228-a0a5-a4bb9fd37d14",
   "metadata": {},
   "outputs": [],
   "source": [
    "idx = course_indices['A deep understanding of deep learning (with Python intro)']"
   ]
  },
  {
   "cell_type": "code",
   "execution_count": 19,
   "id": "08fceb27-c246-40d0-98cd-914456b2e001",
   "metadata": {},
   "outputs": [],
   "source": [
    "scores = list(enumerate(cosine_sim_mat[idx]))"
   ]
  },
  {
   "cell_type": "code",
   "execution_count": 20,
   "id": "4eadf94b-ba77-4f97-a4bf-45a9f5111520",
   "metadata": {},
   "outputs": [],
   "source": [
    "# Sort our scores per cosine score\n",
    "sorted_scores = sorted(scores,key=lambda x:x[1],reverse=True)"
   ]
  },
  {
   "cell_type": "code",
   "execution_count": 21,
   "id": "900a923e-6590-463f-ac81-6a6a868884f9",
   "metadata": {},
   "outputs": [],
   "source": [
    "# Selected Courses Indices\n",
    "selected_course_indices = [i[0] for i in sorted_scores[1:]]"
   ]
  },
  {
   "cell_type": "code",
   "execution_count": 22,
   "id": "c8075ace-a655-424c-a50f-8ad9276def9f",
   "metadata": {},
   "outputs": [],
   "source": [
    "# Selected Courses Scores\n",
    "selected_course_scores = [i[1] for i in sorted_scores[1:]]"
   ]
  },
  {
   "cell_type": "code",
   "execution_count": 23,
   "id": "0b7ec166-ed7e-4d4b-bb3f-62975aebd173",
   "metadata": {},
   "outputs": [],
   "source": [
    "recommended_result = df['Title'].iloc[selected_course_indices]"
   ]
  },
  {
   "cell_type": "code",
   "execution_count": 24,
   "id": "11333b92-7793-4090-bb2c-8912e07e5522",
   "metadata": {},
   "outputs": [],
   "source": [
    "rec_df = pd.DataFrame(recommended_result)"
   ]
  },
  {
   "cell_type": "code",
   "execution_count": 25,
   "id": "3a0e8c58-eeba-479a-9736-8257f297ec1a",
   "metadata": {},
   "outputs": [
    {
     "data": {
      "text/html": [
       "<div>\n",
       "<style scoped>\n",
       "    .dataframe tbody tr th:only-of-type {\n",
       "        vertical-align: middle;\n",
       "    }\n",
       "\n",
       "    .dataframe tbody tr th {\n",
       "        vertical-align: top;\n",
       "    }\n",
       "\n",
       "    .dataframe thead th {\n",
       "        text-align: right;\n",
       "    }\n",
       "</style>\n",
       "<table border=\"1\" class=\"dataframe\">\n",
       "  <thead>\n",
       "    <tr style=\"text-align: right;\">\n",
       "      <th></th>\n",
       "      <th>Title</th>\n",
       "    </tr>\n",
       "  </thead>\n",
       "  <tbody>\n",
       "    <tr>\n",
       "      <th>2073</th>\n",
       "      <td>Unsupervised Deep Learning in Python</td>\n",
       "    </tr>\n",
       "    <tr>\n",
       "      <th>3256</th>\n",
       "      <td>Deep Learning with Python and R: 2-in-1</td>\n",
       "    </tr>\n",
       "    <tr>\n",
       "      <th>3729</th>\n",
       "      <td>Modern Deep Learning in Python</td>\n",
       "    </tr>\n",
       "    <tr>\n",
       "      <th>830</th>\n",
       "      <td>Machine Learning &amp; Deep Learning in Python &amp; R</td>\n",
       "    </tr>\n",
       "    <tr>\n",
       "      <th>831</th>\n",
       "      <td>Machine Learning &amp; Deep Learning in Python &amp; R</td>\n",
       "    </tr>\n",
       "  </tbody>\n",
       "</table>\n",
       "</div>"
      ],
      "text/plain": [
       "                                               Title\n",
       "2073            Unsupervised Deep Learning in Python\n",
       "3256         Deep Learning with Python and R: 2-in-1\n",
       "3729                  Modern Deep Learning in Python\n",
       "830   Machine Learning & Deep Learning in Python & R\n",
       "831   Machine Learning & Deep Learning in Python & R"
      ]
     },
     "execution_count": 25,
     "metadata": {},
     "output_type": "execute_result"
    }
   ],
   "source": [
    "rec_df.head()"
   ]
  },
  {
   "cell_type": "code",
   "execution_count": 26,
   "id": "edfa8272-4f9e-476b-9596-a30e712cce71",
   "metadata": {},
   "outputs": [],
   "source": [
    "def recommend_course(title,num_of_rec=10):\n",
    "    # ID for title\n",
    "    idx = course_indices[title]\n",
    "    # Course Indice\n",
    "    # Search inside cosine_sim_mat\n",
    "    scores = list(enumerate(cosine_sim_mat[idx]))\n",
    "    # Scores\n",
    "    # Sort Scores\n",
    "    sorted_scores = sorted(scores,key=lambda x:x[1],reverse=True)\n",
    "    # Recomm\n",
    "    selected_course_indices = [i[0] for i in sorted_scores[1:]]\n",
    "    selected_course_scores = [i[1] for i in sorted_scores[1:]]\n",
    "    result = df['Title'].iloc[selected_course_indices]\n",
    "    rec_df = pd.DataFrame(result)\n",
    "    rec_df['similarity_scores'] = selected_course_scores\n",
    "    return rec_df.head(num_of_rec)"
   ]
  },
  {
   "cell_type": "code",
   "execution_count": 27,
   "id": "707ab427-a0f4-4472-b97c-a2e95076002c",
   "metadata": {},
   "outputs": [
    {
     "data": {
      "text/html": [
       "<div>\n",
       "<style scoped>\n",
       "    .dataframe tbody tr th:only-of-type {\n",
       "        vertical-align: middle;\n",
       "    }\n",
       "\n",
       "    .dataframe tbody tr th {\n",
       "        vertical-align: top;\n",
       "    }\n",
       "\n",
       "    .dataframe thead th {\n",
       "        text-align: right;\n",
       "    }\n",
       "</style>\n",
       "<table border=\"1\" class=\"dataframe\">\n",
       "  <thead>\n",
       "    <tr style=\"text-align: right;\">\n",
       "      <th></th>\n",
       "      <th>Title</th>\n",
       "      <th>similarity_scores</th>\n",
       "    </tr>\n",
       "  </thead>\n",
       "  <tbody>\n",
       "    <tr>\n",
       "      <th>4095</th>\n",
       "      <td>Financial Accounting</td>\n",
       "      <td>0.670820</td>\n",
       "    </tr>\n",
       "    <tr>\n",
       "      <th>4096</th>\n",
       "      <td>Financial Accounting</td>\n",
       "      <td>0.670820</td>\n",
       "    </tr>\n",
       "    <tr>\n",
       "      <th>2750</th>\n",
       "      <td>SAP S4/HANA -Financial Accounting C_TS4FI_1909...</td>\n",
       "      <td>0.387298</td>\n",
       "    </tr>\n",
       "    <tr>\n",
       "      <th>2672</th>\n",
       "      <td>Introduction to R</td>\n",
       "      <td>0.316228</td>\n",
       "    </tr>\n",
       "    <tr>\n",
       "      <th>2673</th>\n",
       "      <td>Introduction to R</td>\n",
       "      <td>0.316228</td>\n",
       "    </tr>\n",
       "    <tr>\n",
       "      <th>2674</th>\n",
       "      <td>Introduction to R</td>\n",
       "      <td>0.316228</td>\n",
       "    </tr>\n",
       "    <tr>\n",
       "      <th>1024</th>\n",
       "      <td>Python for Financial Analysis and Algorithmic ...</td>\n",
       "      <td>0.282843</td>\n",
       "    </tr>\n",
       "    <tr>\n",
       "      <th>1222</th>\n",
       "      <td>Financial Engineering and Artificial Intellige...</td>\n",
       "      <td>0.282843</td>\n",
       "    </tr>\n",
       "    <tr>\n",
       "      <th>1540</th>\n",
       "      <td>Introduction to R Programming - Must See Intro...</td>\n",
       "      <td>0.282843</td>\n",
       "    </tr>\n",
       "    <tr>\n",
       "      <th>1581</th>\n",
       "      <td>Python &amp; Machine Learning for Financial Analysis</td>\n",
       "      <td>0.282843</td>\n",
       "    </tr>\n",
       "    <tr>\n",
       "      <th>3296</th>\n",
       "      <td>Python and Machine Learning in Financial Analysis</td>\n",
       "      <td>0.282843</td>\n",
       "    </tr>\n",
       "    <tr>\n",
       "      <th>3925</th>\n",
       "      <td>New Ideas for Nonprofit Leaders Webinar</td>\n",
       "      <td>0.282843</td>\n",
       "    </tr>\n",
       "    <tr>\n",
       "      <th>1913</th>\n",
       "      <td>Python for Finance 2021: Financial Analysis fo...</td>\n",
       "      <td>0.258199</td>\n",
       "    </tr>\n",
       "    <tr>\n",
       "      <th>4121</th>\n",
       "      <td>Health Care Financial Management for Physician...</td>\n",
       "      <td>0.258199</td>\n",
       "    </tr>\n",
       "    <tr>\n",
       "      <th>1700</th>\n",
       "      <td>Introduction to R Programming</td>\n",
       "      <td>0.223607</td>\n",
       "    </tr>\n",
       "    <tr>\n",
       "      <th>1884</th>\n",
       "      <td>Introduction to Statistics with R</td>\n",
       "      <td>0.223607</td>\n",
       "    </tr>\n",
       "    <tr>\n",
       "      <th>2511</th>\n",
       "      <td>Introduction to Clustering using R</td>\n",
       "      <td>0.223607</td>\n",
       "    </tr>\n",
       "    <tr>\n",
       "      <th>3475</th>\n",
       "      <td>Introduction To The C Language</td>\n",
       "      <td>0.223607</td>\n",
       "    </tr>\n",
       "    <tr>\n",
       "      <th>3476</th>\n",
       "      <td>Introduction To The C Language</td>\n",
       "      <td>0.223607</td>\n",
       "    </tr>\n",
       "    <tr>\n",
       "      <th>3713</th>\n",
       "      <td>Introduction to SQL</td>\n",
       "      <td>0.223607</td>\n",
       "    </tr>\n",
       "  </tbody>\n",
       "</table>\n",
       "</div>"
      ],
      "text/plain": [
       "                                                  Title  similarity_scores\n",
       "4095                               Financial Accounting           0.670820\n",
       "4096                               Financial Accounting           0.670820\n",
       "2750  SAP S4/HANA -Financial Accounting C_TS4FI_1909...           0.387298\n",
       "2672                                  Introduction to R           0.316228\n",
       "2673                                  Introduction to R           0.316228\n",
       "2674                                  Introduction to R           0.316228\n",
       "1024  Python for Financial Analysis and Algorithmic ...           0.282843\n",
       "1222  Financial Engineering and Artificial Intellige...           0.282843\n",
       "1540  Introduction to R Programming - Must See Intro...           0.282843\n",
       "1581   Python & Machine Learning for Financial Analysis           0.282843\n",
       "3296  Python and Machine Learning in Financial Analysis           0.282843\n",
       "3925            New Ideas for Nonprofit Leaders Webinar           0.282843\n",
       "1913  Python for Finance 2021: Financial Analysis fo...           0.258199\n",
       "4121  Health Care Financial Management for Physician...           0.258199\n",
       "1700                      Introduction to R Programming           0.223607\n",
       "1884                  Introduction to Statistics with R           0.223607\n",
       "2511                 Introduction to Clustering using R           0.223607\n",
       "3475                     Introduction To The C Language           0.223607\n",
       "3476                     Introduction To The C Language           0.223607\n",
       "3713                                Introduction to SQL           0.223607"
      ]
     },
     "execution_count": 27,
     "metadata": {},
     "output_type": "execute_result"
    }
   ],
   "source": [
    "recommend_course(\"Nonprofit Financial Stewardship Webinar: Introduction to Accounting and Financial Statements\",20)"
   ]
  },
  {
   "cell_type": "code",
   "execution_count": null,
   "id": "d5aeeb51-1d44-4dbd-9d8f-cea48144f9e3",
   "metadata": {},
   "outputs": [],
   "source": []
  }
 ],
 "metadata": {
  "kernelspec": {
   "display_name": "Python 3",
   "language": "python",
   "name": "python3"
  },
  "language_info": {
   "codemirror_mode": {
    "name": "ipython",
    "version": 3
   },
   "file_extension": ".py",
   "mimetype": "text/x-python",
   "name": "python",
   "nbconvert_exporter": "python",
   "pygments_lexer": "ipython3",
   "version": "3.8.8"
  }
 },
 "nbformat": 4,
 "nbformat_minor": 5
}
